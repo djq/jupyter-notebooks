{
 "cells": [
  {
   "cell_type": "markdown",
   "metadata": {},
   "source": [
    "## Load a sample of crime data\n",
    "Datasets used in this class are two from Seattle or San Francisco. Here I am first loading a small sample of the data to better understand how it is structured, and what interestign patterns might be present\n",
    "\n",
    "[data source](https://github.com/djq/datasci_course_materials/blob/master/assignment6/crimeanalytics.md)\n",
    "\n"
   ]
  },
  {
   "cell_type": "code",
   "execution_count": 6,
   "metadata": {
    "collapsed": false
   },
   "outputs": [
    {
     "name": "stdout",
     "output_type": "stream",
     "text": [
      "  RMS.CDW.ID General.Offense.Number Offense.Code Offense.Code.Extension\n",
      "1     483839             2015218538         2202                      0\n",
      "2     481252             2015213067         2610                      0\n",
      "3     481375             2015210301         2316                      0\n",
      "4     481690             2015209327         2599                      0\n",
      "5     478198             2015207880         2399                      3\n",
      "6     480485             2015904103         2308                      0\n",
      "          Offense.Type Summary.Offense.Code Summarized.Offense.Description\n",
      "1   BURGLARY-FORCE-RES                 2200                       BURGLARY\n",
      "2 FRAUD-IDENTITY THEFT                 2600                          FRAUD\n",
      "3           THEFT-MAIL                 2300                     MAIL THEFT\n",
      "4          COUNTERFEIT                 2500                    COUNTERFEIT\n",
      "5            THEFT-OTH                 2300                 OTHER PROPERTY\n",
      "6       THEFT-BUILDING                 2300                 OTHER PROPERTY\n",
      "           Date.Reported Occurred.Date.or.Date.Range.Start\n",
      "1 06/28/2015 10:31:00 AM            06/28/2014 10:31:00 AM\n",
      "2 06/24/2015 11:09:00 AM            06/01/2014 12:00:00 AM\n",
      "3 06/22/2015 09:22:00 AM            08/31/2014 09:00:00 AM\n",
      "4 06/21/2015 03:52:00 PM            06/20/2014 01:38:00 PM\n",
      "5 06/20/2015 11:59:00 AM            06/01/2014 11:59:00 AM\n",
      "6 06/19/2015 02:55:00 PM            06/19/2014 02:45:00 PM\n",
      "  Occurred.Date.Range.End       Hundred.Block.Location District.Sector\n",
      "1  06/28/2015 10:31:00 AM        6XX BLOCK OF NW 74 ST               J\n",
      "2  06/24/2015 11:09:00 AM        23XX BLOCK OF 43 AV E               C\n",
      "3                               81XX BLOCK OF 11 AV SW               F\n",
      "4                                 6XX BLOCK OF PINE ST               M\n",
      "5  11/01/2014 12:00:00 PM 77XX BLOCK OF SUNNYSIDE AV N               J\n",
      "6  07/10/2014 02:45:00 PM 35XX BLOCK OF S FERDINAND ST               R\n",
      "  Zone.Beat Census.Tract.2000 Longitude Latitude                       Location\n",
      "1        J2          2900.301 -122.3647 47.68252  (47.68252427, -122.364671996)\n",
      "2        C2          6300.100 -122.2771 47.63990 (47.639900761, -122.277080248)\n",
      "3        F3         11300.501 -122.3493 47.52923 (47.529232299, -122.349312181)\n",
      "4        M2          8200.100 -122.3348 47.61237 (47.612368448, -122.334817763)\n",
      "5        J3          2700.202 -122.3294 47.68596 (47.685959879, -122.329378505)\n",
      "6        R3         10300.401 -122.2875 47.55785 (47.557854802, -122.287477902)\n",
      "  Month Year\n",
      "1     6 2014\n",
      "2     6 2014\n",
      "3     8 2014\n",
      "4     6 2014\n",
      "5     6 2014\n",
      "6     6 2014\n"
     ]
    }
   ],
   "source": [
    "# first set my working directory\n",
    "data = '/Users/djq/repos/jupyter-notebooks/communicating-data-science/week1/data'\n",
    "setwd(data)\n",
    "\n",
    "# load sample of data\n",
    "seattle <- read.csv('seattle_incidents_summer_2014.csv')\n",
    "\n",
    "# reduce this to first 100 rows\n",
    "seattle_sample <- head(seattle, 100)\n",
    "\n",
    "# what fields are available?\n",
    "print(head(seattle_sample))"
   ]
  }
 ],
 "metadata": {
  "kernelspec": {
   "display_name": "R",
   "language": "R",
   "name": "ir"
  },
  "language_info": {
   "codemirror_mode": "r",
   "file_extension": ".r",
   "mimetype": "text/x-r-source",
   "name": "R",
   "pygments_lexer": "r",
   "version": "3.1.1"
  }
 },
 "nbformat": 4,
 "nbformat_minor": 0
}
