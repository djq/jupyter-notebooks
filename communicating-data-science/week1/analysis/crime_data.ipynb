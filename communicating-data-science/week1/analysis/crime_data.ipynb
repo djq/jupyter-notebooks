{
 "cells": [
  {
   "cell_type": "markdown",
   "metadata": {},
   "source": [
    "## Load a sample of crime data\n",
    "Datasets used in this class are two from Seattle or San Francisco. Here I am first loading a small sample of the data to better understand how it is structured, and what interestign patterns might be present\n",
    "\n",
    "[data source](https://github.com/djq/datasci_course_materials/blob/master/assignment6/crimeanalytics.md)\n",
    "\n"
   ]
  },
  {
   "cell_type": "code",
   "execution_count": null,
   "metadata": {
    "collapsed": true
   },
   "outputs": [],
   "source": []
  }
 ],
 "metadata": {
  "kernelspec": {
   "display_name": "R",
   "language": "R",
   "name": "ir"
  },
  "language_info": {
   "codemirror_mode": "r",
   "file_extension": ".r",
   "mimetype": "text/x-r-source",
   "name": "R",
   "pygments_lexer": "r",
   "version": "3.1.1"
  }
 },
 "nbformat": 4,
 "nbformat_minor": 0
}
